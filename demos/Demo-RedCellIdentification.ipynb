{
 "cells": [
  {
   "cell_type": "markdown",
   "id": "ae84db1f",
   "metadata": {},
   "source": [
    "# Tutorial for identifying which ROIs extracted by suite3d are \"red\"\n",
    "Or otherwise express a structural fluorophore measured on a different channel.\n",
    "\n",
    "## Overview\n",
    "In neuroscience, we often express multiple fluorophores in cells, in which one is used for measuring activity - the \"functional\" fluorophore - and one is used for labeling the cell - the \"structural\" fluorophore. In this case, we usually want to know which ROIs express the structural fluorophore. Suite3d enables this by providing a way to compute a registered mean fluorescence image for the structural channel. Then, the package called \"cellector\" can compare the volumetric ROIs and the structural fluorescence to identify which ROIs have this second fluorophore (usually something like tdTomato).\n",
    "\n",
    "## Steps\n",
    "1. Set params to specify which channel is structural and that you want to process it. \n",
    "2. Run suite3d pipeline normally -- everything is handled automatically.\n",
    "3. Process results in cellector. "
   ]
  },
  {
   "cell_type": "code",
   "execution_count": null,
   "id": "f57652f9",
   "metadata": {},
   "outputs": [],
   "source": [
    "import os \n",
    "from datetime import date\n",
    "from matplotlib import pyplot as plt\n",
    "import numpy as np\n",
    "\n",
    "# we need to set the current path to the directory\n",
    "# containing the suite3d repository, this hack should\n",
    "# do the trick\n",
    "os.chdir(os.path.dirname(os.path.abspath(\"\")))\n",
    "\n",
    "from suite3d.job import Job\n",
    "from suite3d import io\n",
    "from suite3d import plot_utils as plot"
   ]
  },
  {
   "cell_type": "code",
   "execution_count": null,
   "id": "f78c8707-e058-4f54-88a1-e24b3ceb0220",
   "metadata": {},
   "outputs": [],
   "source": [
    "# update this to point to the demo data! \n",
    "tifs = io.get_tif_paths('/mnt/md0/data/demo/lbm')[:10]\n",
    "for tif in tifs: print(tif)"
   ]
  },
  {
   "cell_type": "code",
   "execution_count": 3,
   "id": "9f0d542b",
   "metadata": {},
   "outputs": [],
   "source": [
    "# update this to point to the demo data! \n",
    "tifs = io.get_tif_paths('/mnt/md0/data/demo/standard-2p')[:10]"
   ]
  },
  {
   "cell_type": "markdown",
   "id": "6ec2a0e0",
   "metadata": {},
   "source": [
    "## Special Parameters for Processing Structural Fluorescence\n",
    "The params dictionary is where you (the user) tell suite3d how to process your imaging data. There are three parameters relating to structural fluorescence processing and red cell identification. \n",
    "\n",
    "> **Note on terminology**\n",
    ">\n",
    "> Suite3d makes a distinction between the \"functional\" and \"structural\" channels. The functional channel is the one that is used for the primary analysis (e.g. Ca2+ imaging). The structural channel is the one that is used for identifying which ROIs have the structural fluorophore. \n",
    ">\n",
    "> The functional channel is used to register the data, segment the ROIs, and extract dynamic fluorescence traces. The structural channel is simply registered and used to compute a mean image that is co-registered with the functional channel.\n",
    "> \n",
    "> So when we say \"red cell identification\", we mean identifying any ROIs that match fluorescence features in the \"structural\" channel (which is usually red, but of course could be any color). \n",
    "\n",
    "1. `process_structural_channel`: whether to process a second fluorescence channel representing structural information (like tdTomato, for example)\n",
    "    - this is a boolean `True` or `False` and is set to `False` by default\n",
    "2. `structural_color_channel`: the color channel that represents the structural fluorophore\n",
    "    - this is an integer that corresponds to the color channel in the tif file. Suite3d expects that your tif files are shaped such that each frame is 4D with shape (frames, colors, y-pixels, x-pixels). Remember python indexing, so the first color channel is 0.\n",
    "3. `clear_registered_structural_data`: whether to clear the registered structural data after the mean volume is calculated\n",
    "    - this is a boolean `True` or `False` and is set to `False` by default.\n",
    "    - depending on your imaging system, the registered structural data may take up a lot of memory. The only reasons to set this to `True` is if you want to use the structural channel for something like analysis of how suite3d performed the registration. \n",
    "\n",
    "Putting it all together, a standard params for red cell identification might look like this:\n",
    "> ```python\n",
    "> index_to_structural_channel = 1 # which color channel is the structural one\n",
    "> params = { \n",
    ">     # Parameters for processing structural fluorescence    \n",
    ">     'process_structural_channel': True, # whether to process the structural channel\n",
    ">     'structural_color_channel': index_to_structural_channel, # which color channel is the structural one\n",
    ">     'clear_registered_structural_data': False, # whether to clear the registered structural data after the mean volume is calculated\n",
    "> }\n",
    "> ```"
   ]
  },
  {
   "cell_type": "code",
   "execution_count": 4,
   "id": "2b3e38e5",
   "metadata": {},
   "outputs": [],
   "source": [
    "# Set the mandatory parameters\n",
    "params = {\n",
    "    # volume rate\n",
    "    'fs': io.get_vol_rate(tifs[0]),\n",
    "    \n",
    "    # planes to analyze. 0 is typically the flyback, so we exclude it here\n",
    "    'planes' : np.array([1,2,3,4]), \n",
    "    # number of planes recorded by scanimage, including the flyback\n",
    "    'n_ch_tif' : 5,\n",
    "    \n",
    "    # Decay time of the Ca indicator in seconds. 1.3 for GCaMP6s. This example is for GCamP8m\n",
    "    'tau' : 1.3,\n",
    "    'lbm' : False, \n",
    "    'num_colors' : 2, # how many color channels were recorded by scanimage\n",
    "    'functional_color_channel' : 0, # which color channel is the functional one\n",
    "\n",
    "    # Parameters for processing structural fluorescence    \n",
    "    'process_structural_channel': True, # whether to process the structural channel\n",
    "    'structural_color_channel': 1, # which color channel is the structural one\n",
    "    'clear_registered_structural_data': False, # whether to clear the registered structural data after the mean volume is calculated\n",
    "\n",
    "     # voxel size in z,y,x in microns\n",
    "    'voxel_size_um' : (20, 1.5, 1.5),\n",
    "\n",
    "    # number of files to use for the initial pass\n",
    "    # usually, ~500 frames is a good rule of thumb\n",
    "    # we will just use 200 here for speed\n",
    "    'n_init_files' :  2,\n",
    "\n",
    "    # 3D GPU registration - fast! \n",
    "    '3d_reg' : True,\n",
    "    'gpu_reg' : True,\n",
    "    \n",
    "    # note : 3D CPU is not supported yet\n",
    "    'subtract_crosstalk' : False, # turn off some lbm-only features\n",
    "    'fuse_strips' : False, # turn off some lbm-only features\n",
    "}"
   ]
  },
  {
   "cell_type": "code",
   "execution_count": 23,
   "id": "e02910a1",
   "metadata": {},
   "outputs": [],
   "source": [
    "# Create the job\n",
    "job = Job(r'/mnt/md0/runs','demo-std', tifs = tifs,\n",
    "          params=params, create=True, overwrite=True, verbosity = 3)"
   ]
  },
  {
   "cell_type": "code",
   "execution_count": 22,
   "id": "c5310b6e",
   "metadata": {
    "scrolled": true
   },
   "outputs": [],
   "source": [
    "job.run_init_pass()"
   ]
  },
  {
   "cell_type": "code",
   "execution_count": 9,
   "id": "d45d99a0",
   "metadata": {},
   "outputs": [],
   "source": [
    "# If you have large tiffs, split the large tiffs into files of size 100 after registration\n",
    "job.params['split_tif_size'] = 100"
   ]
  },
  {
   "cell_type": "code",
   "execution_count": 11,
   "id": "90a72b8c-042a-49c1-988f-73d16e8295e1",
   "metadata": {},
   "outputs": [],
   "source": [
    "# OPTIONAL: load and take a look at the reference image\n",
    "summary = job.load_summary()\n",
    "ref_img = summary['ref_img_3d']"
   ]
  },
  {
   "cell_type": "code",
   "execution_count": 21,
   "id": "e465e68a",
   "metadata": {
    "scrolled": true
   },
   "outputs": [],
   "source": [
    "# Register will register the structural fluorescence using the same \n",
    "# values as for functional to ensure they overlap perfectly. It will\n",
    "# produce a registered movie and a registered mean image. \n",
    "job.register()"
   ]
  },
  {
   "cell_type": "code",
   "execution_count": 20,
   "id": "24f514a1",
   "metadata": {
    "scrolled": true
   },
   "outputs": [],
   "source": [
    "corr_map = job.calculate_corr_map()"
   ]
  },
  {
   "cell_type": "code",
   "execution_count": 14,
   "id": "3339cfba",
   "metadata": {},
   "outputs": [],
   "source": [
    "res = job.load_corr_map_results()\n",
    "vmap = res['vmap']"
   ]
  },
  {
   "cell_type": "code",
   "execution_count": 18,
   "id": "920c16f8",
   "metadata": {
    "scrolled": true
   },
   "outputs": [],
   "source": [
    "# for speed, only segment a single patch\n",
    "job.params['patch_size_xy'] = (550, 550)\n",
    "job.segment_rois()"
   ]
  },
  {
   "cell_type": "code",
   "execution_count": null,
   "id": "81d8ee5c",
   "metadata": {},
   "outputs": [],
   "source": [
    "job.compute_npil_masks()\n",
    "traces = job.extract_and_deconvolve()"
   ]
  },
  {
   "cell_type": "code",
   "execution_count": null,
   "id": "44e4a1a4",
   "metadata": {},
   "outputs": [],
   "source": [
    "job.export_results('path/to/output', result_dir_name='rois')"
   ]
  },
  {
   "cell_type": "markdown",
   "id": "eeaeac6f-0ba5-4f65-95cf-0212a378297f",
   "metadata": {},
   "source": [
    "## Curation of functional ROIs\n",
    "\n",
    "To take a look at the outputs in napari, navigate to the suite3d directory in a command shell and run the following:\n",
    "```\n",
    "python curation.py curation --output_dir /path/to/output/rois\n",
    "```"
   ]
  },
  {
   "cell_type": "markdown",
   "id": "ef0e33fd",
   "metadata": {},
   "source": [
    "## Processing with cellector\n",
    "\n",
    "Cellector is a package that can be used to process the results of suite3d and identify which ROIs have the structural fluorophore. \n",
    "\n",
    "If you haven't installed cellector yet, you can do so by running the following code in while in your suite3d environment:\n",
    "```\n",
    "pip install cellector\n",
    "```\n",
    "(Suite3d includes this by default now, but it didn't use to so you may need to install it separately.)\n",
    "\n",
    "\n",
    "For more info on how to use cellector, see the [cellector documentation](https://cellector.readthedocs.io/en/stable/).\n",
    "\n",
    "\n",
    "#### Using the GUI\n",
    "Once you have opened the GUI, you can set the criteria cutoffs for determining which ROIs are red (or another color). Then, save the results (there's a button to click or you can use ctrl-s).\n",
    "\n",
    "Once you've saved the results -- you can find the cell selection in the 'path/to/output/folder_name/cellector/' directory with the filename:\n",
    "\n",
    "\"idx_selected.npy\"\n"
   ]
  },
  {
   "cell_type": "code",
   "execution_count": 1,
   "id": "1fc0c864",
   "metadata": {},
   "outputs": [],
   "source": [
    "from cellector.io import create_from_suite3d\n",
    "from cellector.gui import SelectionGUI\n",
    "\n",
    "suite3d_dir = 'path/to/output/folder_name'\n",
    "roi_processor = create_from_suite3d(suite3d_dir)\n",
    "gui = SelectionGUI(roi_processor)"
   ]
  },
  {
   "cell_type": "code",
   "execution_count": null,
   "id": "96c1b3c6",
   "metadata": {},
   "outputs": [],
   "source": []
  },
  {
   "cell_type": "code",
   "execution_count": null,
   "id": "afbf1e16",
   "metadata": {},
   "outputs": [],
   "source": []
  },
  {
   "cell_type": "code",
   "execution_count": null,
   "id": "7ff8a7f1",
   "metadata": {},
   "outputs": [],
   "source": []
  },
  {
   "cell_type": "code",
   "execution_count": null,
   "id": "5938038f",
   "metadata": {},
   "outputs": [],
   "source": []
  }
 ],
 "metadata": {
  "kernelspec": {
   "display_name": "suite3d",
   "language": "python",
   "name": "python3"
  },
  "language_info": {
   "codemirror_mode": {
    "name": "ipython",
    "version": 3
   },
   "file_extension": ".py",
   "mimetype": "text/x-python",
   "name": "python",
   "nbconvert_exporter": "python",
   "pygments_lexer": "ipython3",
   "version": "3.8.20"
  }
 },
 "nbformat": 4,
 "nbformat_minor": 5
}
