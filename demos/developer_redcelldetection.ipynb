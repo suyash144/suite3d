{
 "cells": [
  {
   "cell_type": "markdown",
   "id": "723e7d46",
   "metadata": {},
   "source": [
    "this is a developer notebook for testing out red cell detection. \n",
    "\n",
    "If you find this notebook somewhere, ignore it! There are suite3d demos labeled \"Demo-.....\" that are the official demos.\n"
   ]
  },
  {
   "cell_type": "code",
   "execution_count": 20,
   "id": "f57652f9",
   "metadata": {},
   "outputs": [],
   "source": [
    "%reload_ext autoreload\n",
    "%autoreload 2\n",
    "\n",
    "import os \n",
    "from datetime import date\n",
    "from matplotlib import pyplot as plt\n",
    "import numpy as np\n",
    "\n",
    "# we need to set the current path to the directory\n",
    "# containing the suite3d repository, this hack should\n",
    "# do the trick\n",
    "os.chdir(os.path.dirname(os.path.abspath(\"\")))\n",
    "\n",
    "from suite3d.job import Job\n",
    "from suite3d import io\n",
    "from suite3d import plot_utils as plot"
   ]
  },
  {
   "cell_type": "code",
   "execution_count": null,
   "id": "f78c8707-e058-4f54-88a1-e24b3ceb0220",
   "metadata": {},
   "outputs": [],
   "source": [
    "# update this to point to the demo data! \n",
    "tifs = io.get_tif_paths(r\"D:\\localData\\suite3d\\tinya_test_data_with_red\")\n",
    "for tif in tifs: print(tif)"
   ]
  },
  {
   "cell_type": "code",
   "execution_count": 22,
   "id": "2b3e38e5",
   "metadata": {},
   "outputs": [],
   "source": [
    "# Set the mandatory parameters\n",
    "params = {\n",
    "    # volume rate\n",
    "    'fs': io.get_vol_rate(tifs[0]),\n",
    "    \n",
    "    # planes to analyze. 0 is typically the flyback, so we exclude it here\n",
    "    'planes' : np.array([0,1,2,3,4,5,6,7,8]), \n",
    "    # number of planes recorded by scanimage, including the flyback\n",
    "    'n_ch_tif' : 9,\n",
    "    \n",
    "    # Decay time of the Ca indicator in seconds. 1.3 for GCaMP6s. This example is for GCamP8m\n",
    "    'tau' : 1.3,\n",
    "    'lbm' : False, \n",
    "    'num_colors' : 2, # how many color channels were recorded by scanimage\n",
    "    'functional_color_channel' : 0, # which color channel is the functional one\n",
    "\n",
    "    'process_structural_channel': True, # whether to process the structural channel\n",
    "    'structural_color_channel': 1, # which color channel is the structural one\n",
    "    'clear_registered_structural_data': False, # whether to clear the registered structural data after the mean volume is calculated\n",
    "\n",
    "     # voxel size in z,y,x in microns\n",
    "    'voxel_size_um' : (20, 1.5, 1.5),\n",
    "\n",
    "    # number of files to use for the initial pass\n",
    "    # usually, ~500 frames is a good rule of thumb\n",
    "    # we will just use 200 here for speed\n",
    "    'n_init_files' :  1,\n",
    "\n",
    "    # 3D GPU registration - fast! \n",
    "    '3d_reg' : False,\n",
    "    'gpu_reg' : True,\n",
    "    'nonrigid' : True,\n",
    "    \n",
    "    # note : 3D CPU is not supported yet\n",
    "    'subtract_crosstalk' : False, # turn off some lbm-only features\n",
    "    'fuse_strips' : False, # turn off some lbm-only features    \n",
    "}"
   ]
  },
  {
   "cell_type": "code",
   "execution_count": null,
   "id": "e02910a1",
   "metadata": {},
   "outputs": [],
   "source": [
    "# Create the job\n",
    "job = Job(r'D:\\localData\\suite3d\\runs','test-redcell', tifs = tifs,\n",
    "          params=params, create=True, overwrite=True, verbosity = 3)"
   ]
  },
  {
   "cell_type": "code",
   "execution_count": null,
   "id": "c5310b6e",
   "metadata": {
    "scrolled": true
   },
   "outputs": [],
   "source": [
    "job.run_init_pass()"
   ]
  },
  {
   "cell_type": "code",
   "execution_count": 25,
   "id": "d45d99a0",
   "metadata": {},
   "outputs": [],
   "source": [
    "# If you have large tiffs, split the large tiffs into files of size 100 after registration\n",
    "job.params['split_tif_size'] = 100"
   ]
  },
  {
   "cell_type": "code",
   "execution_count": 7,
   "id": "90a72b8c-042a-49c1-988f-73d16e8295e1",
   "metadata": {},
   "outputs": [],
   "source": [
    "# OPTIONAL: load and take a look at the reference image\n",
    "summary = job.load_summary()\n",
    "ref_img = summary['ref_img_3d']\n",
    "\n",
    "structural = job.load_summary(structural=True)\n",
    "ref_img_struct = structural['ref_img_3d']\n",
    "\n",
    "# # view 1 plane at a time\n",
    "# plot.show_img(ref_img[2], figsize=(3,4))\n",
    "# plot.show_img(ref_img_struct[2], figsize=(3,4))\n",
    "\n",
    "# # interactive 3D viewer\n",
    "# plot.VolumeViewer(ref_img)\n"
   ]
  },
  {
   "cell_type": "code",
   "execution_count": null,
   "id": "e465e68a",
   "metadata": {
    "scrolled": true
   },
   "outputs": [],
   "source": [
    "job.register()"
   ]
  },
  {
   "cell_type": "code",
   "execution_count": 9,
   "id": "83ffbfbf",
   "metadata": {},
   "outputs": [],
   "source": [
    "import napari\n",
    "import tifffile as tf\n",
    "\n",
    "mov_green = job.get_registered_movie(key=\"registered_fused_data\", filename_filter=\"fused\", structural=False)[:, :200].compute()\n",
    "mov_red = job.get_registered_movie(key=\"registered_fused_data\", filename_filter=\"fused\", structural=True)[:, :200].compute()\n",
    "\n",
    "# Create the viewer and set human-readable axis labels\n",
    "viewer = napari.Viewer()\n",
    "viewer.dims.axis_labels = ['Plane', 'Time', 'Y', 'X']\n",
    "\n",
    "# Add each movie as a separate layer with additive blending\n",
    "viewer.add_image(\n",
    "    mov_red,\n",
    "    name='Red channel',\n",
    "    colormap='red',\n",
    "    blending='additive',\n",
    "    visible=True\n",
    ")\n",
    "viewer.add_image(\n",
    "    mov_green,\n",
    "    name='Green channel',\n",
    "    colormap='green',\n",
    "    blending='additive',\n",
    "    visible=True\n",
    ")\n",
    "\n",
    "napari.run()"
   ]
  },
  {
   "cell_type": "code",
   "execution_count": null,
   "id": "24f514a1",
   "metadata": {
    "scrolled": true
   },
   "outputs": [],
   "source": [
    "corr_map = job.calculate_corr_map()"
   ]
  },
  {
   "cell_type": "code",
   "execution_count": 30,
   "id": "3339cfba",
   "metadata": {},
   "outputs": [],
   "source": [
    "res = job.load_corr_map_results()\n",
    "vmap = res['vmap']"
   ]
  },
  {
   "cell_type": "code",
   "execution_count": null,
   "id": "920c16f8",
   "metadata": {
    "scrolled": true
   },
   "outputs": [],
   "source": [
    "job.params['patch_size_xy'] = (550, 550)\n",
    "# for speed, only segment a single patch\n",
    "job.segment_rois()"
   ]
  },
  {
   "cell_type": "code",
   "execution_count": null,
   "id": "81d8ee5c",
   "metadata": {},
   "outputs": [],
   "source": [
    "job.compute_npil_masks()\n",
    "traces = job.extract_and_deconvolve()"
   ]
  },
  {
   "cell_type": "code",
   "execution_count": null,
   "id": "44e4a1a4",
   "metadata": {},
   "outputs": [],
   "source": [
    "results_path = r'D:\\localData\\suite3d\\results\\test-redcell'\n",
    "job.export_results(results_path, result_dir_name='rois')"
   ]
  },
  {
   "cell_type": "markdown",
   "id": "eeaeac6f-0ba5-4f65-95cf-0212a378297f",
   "metadata": {},
   "source": [
    "To take a look at the outputs in napari, navigate to the suite3d directory in a command shell and run the following:\n",
    "```\n",
    "python curation.py curation --output_dir /path/to/output/rois\n",
    "```"
   ]
  },
  {
   "cell_type": "code",
   "execution_count": null,
   "id": "ef0e33fd",
   "metadata": {},
   "outputs": [],
   "source": []
  },
  {
   "cell_type": "code",
   "execution_count": null,
   "id": "1fc0c864",
   "metadata": {},
   "outputs": [],
   "source": [
    "# Code for developing red cell analysis for 3D ROIs\n",
    "\n",
    "from pathlib import Path\n",
    "import numpy as np\n",
    "results_path = Path(r\"D:\\localData\\suite3d\\results\\test-redcell\\s3d-results-test-redcell\")\n",
    "\n",
    "stats = np.load(results_path / \"stats.npy\", allow_pickle=True)\n",
    "iscell = np.load(results_path / \"iscell.npy\")"
   ]
  },
  {
   "cell_type": "code",
   "execution_count": null,
   "id": "4bd57e6f",
   "metadata": {},
   "outputs": [],
   "source": [
    "stats[0][\"lam\"]"
   ]
  },
  {
   "cell_type": "code",
   "execution_count": 86,
   "id": "7ff8a7f1",
   "metadata": {},
   "outputs": [],
   "source": [
    "idxcells = np.where(iscell[:, 0])[0]\n",
    "s = stats[idxcells[0]]"
   ]
  }
 ],
 "metadata": {
  "kernelspec": {
   "display_name": "suite3d",
   "language": "python",
   "name": "python3"
  },
  "language_info": {
   "codemirror_mode": {
    "name": "ipython",
    "version": 3
   },
   "file_extension": ".py",
   "mimetype": "text/x-python",
   "name": "python",
   "nbconvert_exporter": "python",
   "pygments_lexer": "ipython3",
   "version": "3.8.20"
  }
 },
 "nbformat": 4,
 "nbformat_minor": 5
}
